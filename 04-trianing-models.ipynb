{
 "cells": [
  {
   "cell_type": "code",
   "execution_count": 8,
   "id": "5c4a8eab",
   "metadata": {},
   "outputs": [],
   "source": [
    "import pandas as pd\n",
    "import numpy as np\n",
    "import matplotlib.pyplot as plt \n",
    "import seaborn as sns"
   ]
  },
  {
   "cell_type": "code",
   "execution_count": 9,
   "id": "5c40cc6b",
   "metadata": {},
   "outputs": [
    {
     "data": {
      "text/plain": [
       "(89740, 157)"
      ]
     },
     "execution_count": 9,
     "metadata": {},
     "output_type": "execute_result"
    }
   ],
   "source": [
    "df_procesed = pd.read_csv('data/procesed/modified-spotify-data.csv')\n",
    "df_procesed.shape"
   ]
  },
  {
   "cell_type": "code",
   "execution_count": 19,
   "id": "5df4abf6",
   "metadata": {},
   "outputs": [],
   "source": [
    "from sklearn.model_selection import train_test_split\n",
    "\n",
    "X = df_procesed.drop(columns=['popularity'])\n",
    "y = df_procesed['popularity']\n",
    "\n",
    "# Train test split \n",
    "X_train, X_test, y_train, y_test = train_test_split(X, y, test_size=0.2, random_state=42)"
   ]
  },
  {
   "cell_type": "code",
   "execution_count": 20,
   "id": "92376d31",
   "metadata": {},
   "outputs": [
    {
     "name": "stdout",
     "output_type": "stream",
     "text": [
      "------------------------------  Scores  ------------------------------\n",
      "R^2 Score : 0.9875651446549487 \n",
      "MSE : 0.07470397649945391 \n",
      "RMSE : 0.27332028190285096\n",
      "------------------------------------------------------------  \n",
      "\n"
     ]
    }
   ],
   "source": [
    "from sklearn.linear_model import LinearRegression\n",
    "from sklearn.metrics import mean_absolute_error, mean_squared_error, r2_score\n",
    "\n",
    "linear_model = LinearRegression()\n",
    "    \n",
    "linear_model = LinearRegression()\n",
    "linear_model.fit(X_train, y_train)\n",
    "\n",
    "# calculate the predict the model\n",
    "y_pred = linear_model.predict(X_test)\n",
    "\n",
    "# See the score\n",
    "print(f\"{'--'*15}  Scores  {'--'*15}\")\n",
    "print(f\"R^2 Score : {r2_score(y_test, y_pred)} \")\n",
    "print(f\"MSE : {mean_absolute_error(y_test, y_pred)} \")\n",
    "print(f\"RMSE : {np.sqrt(mean_absolute_error(y_test, y_pred))}\")\n",
    "print(f\"{'--'*30}  \\n\")"
   ]
  },
  {
   "cell_type": "code",
   "execution_count": null,
   "id": "00ff929b",
   "metadata": {},
   "outputs": [],
   "source": []
  }
 ],
 "metadata": {
  "kernelspec": {
   "display_name": "Python 3",
   "language": "python",
   "name": "python3"
  },
  "language_info": {
   "codemirror_mode": {
    "name": "ipython",
    "version": 3
   },
   "file_extension": ".py",
   "mimetype": "text/x-python",
   "name": "python",
   "nbconvert_exporter": "python",
   "pygments_lexer": "ipython3",
   "version": "3.10.12"
  }
 },
 "nbformat": 4,
 "nbformat_minor": 5
}
